{
 "cells": [
  {
   "cell_type": "markdown",
   "metadata": {},
   "source": [
    "# Machine Learning\n",
    "\n",
    "## Exersice 1\n",
    "\n",
   
   ]
  },
  {
   "cell_type": "markdown",
   "metadata": {},
   "source": [
    "### Topic \"Desicion regression tree with linear model\""
   ]
  },
  {
   "cell_type": "markdown",
   "metadata": {},
   "source": [
    "<span style=\"color:blue\">Import the necessary libraries</span>"
   ]
  },
  {
   "cell_type": "code",
   "execution_count": 1,
   "metadata": {
    "scrolled": false
   },
   "outputs": [],
   "source": [
    "from sklearn.metrics import mean_squared_error\n",
    "import pandas as pd\n",
    "import numpy as np\n",
    "from sklearn.compose import ColumnTransformer\n",
    "from sklearn.preprocessing import OneHotEncoder\n",
    "from sklearn.model_selection import train_test_split\n",
    "from sklearn.tree import DecisionTreeRegressor\n",
    "from sklearn.linear_model import Ridge"
   ]
  },
  {
   "cell_type": "markdown",
   "metadata": {},
   "source": [
    "#### Datasets"
   ]
  },
  {
   "cell_type": "markdown",
   "metadata": {},
   "source": [
    "<span style=\"color:blue\">For test we use 5 datasets from the UC Irvine Machine Learning Repository</span>"
   ]
  },
  {
   "cell_type": "code",
   "execution_count": 2,
   "metadata": {},
   "outputs": [],
   "source": [
    "# Dataset №1 \n",
    "# Forest Fires Data Set\n",
    "# https://archive.ics.uci.edu/ml/datasets/Forest+Fires\n",
    "path_dataset_1='forestfires1.csv'\n",
    "\n",
    "# Dataset №2 \n",
    "# Wine Quality Data Set\n",
    "# https://archive.ics.uci.edu/ml/datasets/Wine+Quality\n",
    "path_dataset_2='winequality-red.csv'\n",
    "\n",
    "# Dataset №3 \n",
    "# Appliances energy prediction Data Set\n",
    "# https://archive.ics.uci.edu/ml/datasets/Appliances+energy+prediction\n",
    "path_dataset_3='energydata_complete.csv'\n",
    "\n",
    "# Dataset №4 \n",
    "# Electrical Grid Stability Simulated Data Data Set\n",
    "# https://archive.ics.uci.edu/ml/datasets/Electrical+Grid+Stability+Simulated+Data+\n",
    "path_dataset_4='Data_for_UCI_named.csv'\n",
    "\n",
    "\n",
    "# Dataset №5 \n",
    "# Physicochemical Properties of Protein Tertiary Structure Data Set\n",
    "# https://archive.ics.uci.edu/ml/datasets/Physicochemical+Properties+of+Protein+Tertiary+Structure\n",
    "path_dataset_5='CASP.csv'"
   ]
  },
  {
   "cell_type": "markdown",
   "metadata": {},
   "source": [
    "<span style=\"color:blue\">Time to coding</span>"
   ]
  },
  {
   "cell_type": "markdown",
   "metadata": {},
   "source": [
    "#### Create Tree"
   ]
  },
  {
   "cell_type": "code",
   "execution_count": 3,
   "metadata": {},
   "outputs": [],
   "source": [
    "class Root_Node:\n",
    "    def __init__(self, df,target):  \n",
    "        self.df = df  \n",
    "        self.size=df.shape[0]\n",
    "        self.target=target\n",
    "        self.size=self.df.shape[0]\n",
    "        self.categorical_mask = (self.df.dtypes == object)\n",
    "        self.categorical_features=self.df.columns[self.categorical_mask].to_list()\n",
    "        self.all_features=self.df.columns.to_list()\n",
    "        self.all_features.remove(target)\n",
    "        self.children='no'\n",
    "        \n",
    "# preproc:drop row with categorical NaN         \n",
    "    def preproc(self):\n",
    "#         self.df=self.df.fillna(self.df.mean())\n",
    "        self.df=self.df.dropna(how='any')\n",
    "        self.size=self.df.shape[0]\n",
    "\n",
    "# log: include preprocessing, dummies and learning Ridge Regression        \n",
    "    def log(self,df): \n",
    "        Y=df[[self.target]]\n",
    "        D=df.drop(self.target,axis=1)\n",
    "        koefD=D.shape[0]/self.size\n",
    "        ridge = Ridge(normalize=True)\n",
    "        categorical_mask = (D.dtypes == object)\n",
    "        to_drop = D.columns[categorical_mask]\n",
    "        categorical_features=D.columns[categorical_mask].to_list()\n",
    "        transformer = ColumnTransformer(transformers=[(\"OneHot\",OneHotEncoder(sparse=False),categorical_mask)])\n",
    "        X=transformer.fit_transform(D)\n",
    "        X=pd.DataFrame(X)\n",
    "        X.reset_index(drop=True, inplace=True)\n",
    "        D.reset_index(drop=True, inplace=True)\n",
    "        D = pd.concat([D, X], axis=1)\n",
    "        D=D.drop(to_drop,axis=1)\n",
    "        model=ridge.fit(D,Y)\n",
    "        \n",
    "        metric=mean_squared_error(Y, model.predict(D))*koefD\n",
    "        return (metric,model,transformer)\n",
    "\n",
    "# fit: iterates over all separation options, selects split with the best MSE , \n",
    "#     the operation is performed recursively until the size of the dataframe's split is more than size_n    \n",
    "    def fit(self,size_n=100):\n",
    "        self.metric,self.model,self.transformer= self.log(self.df)\n",
    "        if self.size<size_n:\n",
    "            return self.metric,self.model\n",
    "        r=10000000000\n",
    "        for feature in self.all_features:\n",
    "            values=self.df[feature].unique()\n",
    "            if feature in self.categorical_features:\n",
    "                array=[]\n",
    "                for value in values:    \n",
    "                    df_new=self.df[self.df[feature]==value]\n",
    "                    score=self.log(df_new)\n",
    "                    array.append(score[0])                    \n",
    "                score=np.sum(array)\n",
    "                if score<r:\n",
    "                    r=score\n",
    "                    rmse=[score,feature] \n",
    "#             if True:\n",
    "            else:\n",
    "                values_min=np.amin(values)\n",
    "                values_max=np.amax(values)\n",
    "                values=np.linspace(values_min, values_max, num=10)\n",
    "#                 print((values))\n",
    "                for value in values:\n",
    "                    df_new1,df_new2=self.df[self.df[feature]>=value],self.df[self.df[feature]<value]\n",
    "                    if df_new1.shape[0]>10 and df_new2.shape[0]>10:\n",
    "                        score1=self.log(df_new1)[0]\n",
    "                        score2=self.log(df_new2)[0]\n",
    "                        score=score1+score2 \n",
    "                        if score<r:\n",
    "                            r=score\n",
    "                            rmse=[score,feature,value]\n",
    "          \n",
    "        if len(rmse)==2:\n",
    "            ar=[]\n",
    "            for value in self.df[rmse[1]].unique():\n",
    "                ar.append((Root_Node(self.df[self.df[rmse[1]]==value],self.target),value))\n",
    "            self.children=[ar,rmse[1],'Category']\n",
    "        elif len(rmse)==3:\n",
    "            df11=[Root_Node(self.df[self.df[rmse[1]]>=rmse[2]],self.target),'>=']\n",
    "            df22=[Root_Node(self.df[self.df[rmse[1]]<rmse[2]],self.target),'<']\n",
    "            self.children=[df11,df22,rmse[1],rmse[2],'Numeric']     \n",
    "            \n",
    "        if self.children[2]=='Category': \n",
    "            for i in self.children[0]:\n",
    "                i[0].fit()   \n",
    "        elif self.children[4]=='Numeric':\n",
    "            self.children[0][0].fit()\n",
    "            self.children[1][0].fit()\n",
    "\n",
    "# search: search sub-DataFrame to every row from Test DataFrame, return its object              \n",
    "    def search(self,df_new):\n",
    "        if self.children=='no':\n",
    "            return self\n",
    "        else:\n",
    "            if self.children[2]=='Category':\n",
    "                for i in range(len(self.children[0])):\n",
    "                    value=self.children[0][i][1]\n",
    "                    feature=self.children[1]\n",
    "                    node=self.children[0][i][0]\n",
    "                    if df_new[feature].tolist()[0]==value:\n",
    "                        return node.search(df_new)\n",
    "            elif self.children[4]=='Numeric':\n",
    "                value=self.children[3]\n",
    "                feature=self.children[2]\n",
    "                if df_new[feature].tolist()[0]>=value:\n",
    "                    node=self.children[0][0]\n",
    "                else:\n",
    "                    node=self.children[1][0]\n",
    "                return node.search(df_new) \n",
    "\n",
    "# predict: transform Test DataSet and predict value according to its Sub DataFrame model             \n",
    "    def predict(self,df_new):\n",
    "        df_new=df_new.dropna(how='any')\n",
    "        y_p=[]\n",
    "        y_t=[]\n",
    "        for i in range(df_new.shape[0]):\n",
    "            test_df=df_new.iloc[[i],:]\n",
    "            node=self.search(test_df) \n",
    "            y_test=test_df[self.target]\n",
    "            categorical_mask = (test_df.dtypes == object)\n",
    "            to_drop = test_df.columns[categorical_mask]\n",
    "            test_df=test_df.drop(self.target,axis=1)\n",
    "            try:\n",
    "                X=node.transformer.transform(test_df)\n",
    "                X=pd.DataFrame(X)\n",
    "                model=node.model\n",
    "                X.reset_index(drop=True, inplace=True)\n",
    "                test_df.reset_index(drop=True, inplace=True)\n",
    "                test_df = pd.concat([test_df, X], axis=1)\n",
    "                test_df=test_df.drop(to_drop,axis=1)\n",
    "                y_pred=model.predict(test_df)[0][0]\n",
    "                y_pred=round(y_pred,2)\n",
    "                y_t.append(y_test.values[0])\n",
    "                y_p.append(y_pred)\n",
    "            except:\n",
    "                continue\n",
    "        return pd.DataFrame({'Y_test':y_t,'Y_pred':y_p})"
   ]
  },
  {
   "cell_type": "markdown",
   "metadata": {},
   "source": [
    "#### Function DecisionTreeRegressor from SkLearn"
   ]
  },
  {
   "cell_type": "markdown",
   "metadata": {},
   "source": [
    "<span style=\"color:blue\">Small function to preprocessing and learning with DecisionTreeRegressor from SkLearn</span>"
   ]
  },
  {
   "cell_type": "code",
   "execution_count": 4,
   "metadata": {},
   "outputs": [],
   "source": [
    "def proc_learn(BigData,target_label,Train,Holdout):\n",
    "    BigData=DataSet.dropna(how='any')\n",
    "    categorical_mask = (BigData.dtypes == object)\n",
    "    to_drop = BigData.columns[categorical_mask]\n",
    "    categorical_features=BigData.columns[categorical_mask].to_list()\n",
    "    transformer = ColumnTransformer(transformers=[(\"OneHot\",OneHotEncoder(sparse=False),categorical_mask)])\n",
    "    X=transformer.fit_transform(BigData)\n",
    "    X=pd.DataFrame(X)\n",
    "    X.reset_index(drop=True, inplace=True)\n",
    "    BigData.reset_index(drop=True, inplace=True)\n",
    "    BigData = pd.concat([BigData, X], axis=1)\n",
    "    BigData=BigData.drop(to_drop,axis=1)\n",
    "    new_train = BigData[BigData.index.isin(Train.index)]\n",
    "    new_test = BigData[BigData.index.isin(Holdout.index)]\n",
    "    train_x=new_train.drop(target_label,axis=1)\n",
    "    train_y=new_train[target_label]\n",
    "    test_x=new_test.drop(target_label,axis=1)\n",
    "    test_y=new_test[target_label]\n",
    "    model=DecisionTreeRegressor()\n",
    "    model.fit(train_x,train_y)\n",
    "    y_pred=model.predict(test_x)\n",
    "    metric=mean_squared_error(test_y, y_pred)\n",
    "    metric=round(metric,2)\n",
    "    return (pd.DataFrame({'Y_test':test_y,'Y_predict':y_pred}),metric)"
   ]
  },
  {
   "cell_type": "markdown",
   "metadata": {},
   "source": [
    "<span style=\"color:blue\">Time for testing code</span>"
   ]
  },
  {
   "cell_type": "markdown",
   "metadata": {},
   "source": [
    "#### DataSet №1"
   ]
  },
  {
   "cell_type": "markdown",
   "metadata": {},
   "source": [
    "<span style=\"color:blue\">Read dataset  \n",
    "Target to predict here it is 'temp'</span>"
   ]
  },
  {
   "cell_type": "code",
   "execution_count": 21,
   "metadata": {},
   "outputs": [
    {
     "data": {
      "text/html": [
       "<div>\n",
       "<style scoped>\n",
       "    .dataframe tbody tr th:only-of-type {\n",
       "        vertical-align: middle;\n",
       "    }\n",
       "\n",
       "    .dataframe tbody tr th {\n",
       "        vertical-align: top;\n",
       "    }\n",
       "\n",
       "    .dataframe thead th {\n",
       "        text-align: right;\n",
       "    }\n",
       "</style>\n",
       "<table border=\"1\" class=\"dataframe\">\n",
       "  <thead>\n",
       "    <tr style=\"text-align: right;\">\n",
       "      <th></th>\n",
       "      <th>X</th>\n",
       "      <th>Y</th>\n",
       "      <th>month</th>\n",
       "      <th>day</th>\n",
       "      <th>FFMC</th>\n",
       "      <th>DMC</th>\n",
       "      <th>DC</th>\n",
       "      <th>ISI</th>\n",
       "      <th>temp</th>\n",
       "      <th>RH</th>\n",
       "      <th>wind</th>\n",
       "      <th>rain</th>\n",
       "      <th>area</th>\n",
       "    </tr>\n",
       "  </thead>\n",
       "  <tbody>\n",
       "    <tr>\n",
       "      <th>0</th>\n",
       "      <td>7</td>\n",
       "      <td>5</td>\n",
       "      <td>mar</td>\n",
       "      <td>fri</td>\n",
       "      <td>86.2</td>\n",
       "      <td>26.2</td>\n",
       "      <td>94.3</td>\n",
       "      <td>5.1</td>\n",
       "      <td>8.2</td>\n",
       "      <td>51.0</td>\n",
       "      <td>6.7</td>\n",
       "      <td>0.0</td>\n",
       "      <td>0.0</td>\n",
       "    </tr>\n",
       "    <tr>\n",
       "      <th>1</th>\n",
       "      <td>7</td>\n",
       "      <td>4</td>\n",
       "      <td>oct</td>\n",
       "      <td>tue</td>\n",
       "      <td>90.6</td>\n",
       "      <td>35.4</td>\n",
       "      <td>669.1</td>\n",
       "      <td>6.7</td>\n",
       "      <td>18.0</td>\n",
       "      <td>33.0</td>\n",
       "      <td>0.9</td>\n",
       "      <td>0.0</td>\n",
       "      <td>0.0</td>\n",
       "    </tr>\n",
       "    <tr>\n",
       "      <th>2</th>\n",
       "      <td>7</td>\n",
       "      <td>4</td>\n",
       "      <td>NaN</td>\n",
       "      <td>sat</td>\n",
       "      <td>90.6</td>\n",
       "      <td>43.7</td>\n",
       "      <td>686.9</td>\n",
       "      <td>6.7</td>\n",
       "      <td>NaN</td>\n",
       "      <td>NaN</td>\n",
       "      <td>1.3</td>\n",
       "      <td>0.0</td>\n",
       "      <td>0.0</td>\n",
       "    </tr>\n",
       "    <tr>\n",
       "      <th>3</th>\n",
       "      <td>8</td>\n",
       "      <td>6</td>\n",
       "      <td>mar</td>\n",
       "      <td>fri</td>\n",
       "      <td>91.7</td>\n",
       "      <td>33.3</td>\n",
       "      <td>77.5</td>\n",
       "      <td>9.0</td>\n",
       "      <td>8.3</td>\n",
       "      <td>97.0</td>\n",
       "      <td>4.0</td>\n",
       "      <td>0.2</td>\n",
       "      <td>0.0</td>\n",
       "    </tr>\n",
       "    <tr>\n",
       "      <th>4</th>\n",
       "      <td>8</td>\n",
       "      <td>6</td>\n",
       "      <td>mar</td>\n",
       "      <td>sun</td>\n",
       "      <td>89.3</td>\n",
       "      <td>51.3</td>\n",
       "      <td>102.2</td>\n",
       "      <td>9.6</td>\n",
       "      <td>11.4</td>\n",
       "      <td>99.0</td>\n",
       "      <td>1.8</td>\n",
       "      <td>0.0</td>\n",
       "      <td>0.0</td>\n",
       "    </tr>\n",
       "  </tbody>\n",
       "</table>\n",
       "</div>"
      ],
      "text/plain": [
       "   X  Y month  day  FFMC   DMC     DC  ISI  temp    RH  wind  rain  area\n",
       "0  7  5   mar  fri  86.2  26.2   94.3  5.1   8.2  51.0   6.7   0.0   0.0\n",
       "1  7  4   oct  tue  90.6  35.4  669.1  6.7  18.0  33.0   0.9   0.0   0.0\n",
       "2  7  4   NaN  sat  90.6  43.7  686.9  6.7   NaN   NaN   1.3   0.0   0.0\n",
       "3  8  6   mar  fri  91.7  33.3   77.5  9.0   8.3  97.0   4.0   0.2   0.0\n",
       "4  8  6   mar  sun  89.3  51.3  102.2  9.6  11.4  99.0   1.8   0.0   0.0"
      ]
     },
     "execution_count": 21,
     "metadata": {},
     "output_type": "execute_result"
    }
   ],
   "source": [
    "# temp - temperature in Celsius degrees\n",
    "target_label='temp'\n",
    "DataSet=pd.read_csv(path_dataset_1)\n",
    "DataSet.head()"
   ]
  },
  {
   "cell_type": "markdown",
   "metadata": {},
   "source": [
    "<span style=\"color:blue\">Split data for Train and Holdout</span>"
   ]
  },
  {
   "cell_type": "code",
   "execution_count": 22,
   "metadata": {},
   "outputs": [
    {
     "name": "stdout",
     "output_type": "stream",
     "text": [
      "Rows:\n",
      "Train:361\n",
      "Holdout:156\n"
     ]
    }
   ],
   "source": [
    "Train,Holdout = train_test_split(DataSet, test_size=0.3,\n",
    "random_state=17)\n",
    "print('Rows:')\n",
    "print('Train:{}'.format(Train.shape[0]))\n",
    "print('Holdout:{}'.format(Holdout.shape[0]))"
   ]
  },
  {
   "cell_type": "markdown",
   "metadata": {},
   "source": [
    "#### First of all check MSE DecisionTreeRegressor from SkLearn"
   ]
  },
  {
   "cell_type": "code",
   "execution_count": 23,
   "metadata": {},
   "outputs": [
    {
     "name": "stdout",
     "output_type": "stream",
     "text": [
      "MSE with DecisionTreeRegressor from SkLearn:12.32\n",
      "\n",
      "DataFrame's example:\n"
     ]
    },
    {
     "data": {
      "text/html": [
       "<div>\n",
       "<style scoped>\n",
       "    .dataframe tbody tr th:only-of-type {\n",
       "        vertical-align: middle;\n",
       "    }\n",
       "\n",
       "    .dataframe tbody tr th {\n",
       "        vertical-align: top;\n",
       "    }\n",
       "\n",
       "    .dataframe thead th {\n",
       "        text-align: right;\n",
       "    }\n",
       "</style>\n",
       "<table border=\"1\" class=\"dataframe\">\n",
       "  <thead>\n",
       "    <tr style=\"text-align: right;\">\n",
       "      <th></th>\n",
       "      <th>Y_test</th>\n",
       "      <th>Y_predict</th>\n",
       "    </tr>\n",
       "  </thead>\n",
       "  <tbody>\n",
       "    <tr>\n",
       "      <th>3</th>\n",
       "      <td>11.4</td>\n",
       "      <td>15.2</td>\n",
       "    </tr>\n",
       "    <tr>\n",
       "      <th>9</th>\n",
       "      <td>17.8</td>\n",
       "      <td>17.4</td>\n",
       "    </tr>\n",
       "    <tr>\n",
       "      <th>13</th>\n",
       "      <td>26.4</td>\n",
       "      <td>24.3</td>\n",
       "    </tr>\n",
       "    <tr>\n",
       "      <th>14</th>\n",
       "      <td>22.9</td>\n",
       "      <td>18.6</td>\n",
       "    </tr>\n",
       "    <tr>\n",
       "      <th>16</th>\n",
       "      <td>16.7</td>\n",
       "      <td>14.2</td>\n",
       "    </tr>\n",
       "  </tbody>\n",
       "</table>\n",
       "</div>"
      ],
      "text/plain": [
       "    Y_test  Y_predict\n",
       "3     11.4       15.2\n",
       "9     17.8       17.4\n",
       "13    26.4       24.3\n",
       "14    22.9       18.6\n",
       "16    16.7       14.2"
      ]
     },
     "execution_count": 23,
     "metadata": {},
     "output_type": "execute_result"
    }
   ],
   "source": [
    "df,metric=proc_learn(DataSet,target_label,Train,Holdout) \n",
    "print('MSE with DecisionTreeRegressor from SkLearn:{}'.format(metric))\n",
    "print(\"\\nDataFrame's example:\")\n",
    "df.head()"
   ]
  },
  {
   "cell_type": "markdown",
   "metadata": {},
   "source": [
    "#### Now lets implement our algorithm "
   ]
  },
  {
   "cell_type": "markdown",
   "metadata": {},
   "source": [
    "<span style=\"color:blue\">Create class object</span>"
   ]
  },
  {
   "cell_type": "code",
   "execution_count": 24,
   "metadata": {},
   "outputs": [
    {
     "name": "stdout",
     "output_type": "stream",
     "text": [
      "NaN count\n"
     ]
    },
    {
     "data": {
      "text/plain": [
       "X        0\n",
       "Y        0\n",
       "month    1\n",
       "day      0\n",
       "FFMC     0\n",
       "DMC      0\n",
       "DC       0\n",
       "ISI      0\n",
       "temp     1\n",
       "RH       1\n",
       "wind     0\n",
       "rain     0\n",
       "area     0\n",
       "dtype: int64"
      ]
     },
     "execution_count": 24,
     "metadata": {},
     "output_type": "execute_result"
    }
   ],
   "source": [
    "Tree_DataSet=Root_Node(Train,target_label)\n",
    "print('NaN count')\n",
    "Tree_DataSet.df.isnull().sum()"
   ]
  },
  {
   "cell_type": "markdown",
   "metadata": {},
   "source": [
    "<span style=\"color:blue\">Use method \"preproc\" to prerpocessing  \n",
    "Drop rows with NaN categorial</span>"
   ]
  },
  {
   "cell_type": "code",
   "execution_count": 25,
   "metadata": {},
   "outputs": [
    {
     "data": {
      "text/plain": [
       "X        0\n",
       "Y        0\n",
       "month    0\n",
       "day      0\n",
       "FFMC     0\n",
       "DMC      0\n",
       "DC       0\n",
       "ISI      0\n",
       "temp     0\n",
       "RH       0\n",
       "wind     0\n",
       "rain     0\n",
       "area     0\n",
       "dtype: int64"
      ]
     },
     "execution_count": 25,
     "metadata": {},
     "output_type": "execute_result"
    }
   ],
   "source": [
    "Tree_DataSet.preproc()\n",
    "Tree_DataSet.df.isnull().sum()"
   ]
  },
  {
   "cell_type": "markdown",
   "metadata": {},
   "source": [
    "<span style=\"color:blue\">Now we start learning procedure  \n",
    "size_n - the number instanses in leaves</span>"
   ]
  },
  {
   "cell_type": "code",
   "execution_count": 26,
   "metadata": {},
   "outputs": [],
   "source": [
    "Tree_DataSet.fit(size_n=40)"
   ]
  },
  {
   "cell_type": "markdown",
   "metadata": {},
   "source": [
    "<span style=\"color:blue\">May check that build tree with childs</span>"
   ]
  },
  {
   "cell_type": "code",
   "execution_count": 27,
   "metadata": {},
   "outputs": [
    {
     "data": {
      "text/plain": [
       "[[(<__main__.Root_Node at 0x152c864abe0>, 'sep'),\n",
       "  (<__main__.Root_Node at 0x152c864a588>, 'jul'),\n",
       "  (<__main__.Root_Node at 0x152c8625550>, 'feb'),\n",
       "  (<__main__.Root_Node at 0x152c8625470>, 'jun'),\n",
       "  (<__main__.Root_Node at 0x152c76131d0>, 'mar'),\n",
       "  (<__main__.Root_Node at 0x152c76136d8>, 'aug'),\n",
       "  (<__main__.Root_Node at 0x152c76135f8>, 'apr'),\n",
       "  (<__main__.Root_Node at 0x152c8626400>, 'oct'),\n",
       "  (<__main__.Root_Node at 0x152c8626320>, 'may'),\n",
       "  (<__main__.Root_Node at 0x152c8626160>, 'dec'),\n",
       "  (<__main__.Root_Node at 0x152c8626b00>, 'nov'),\n",
       "  (<__main__.Root_Node at 0x152c86260f0>, 'jan')],\n",
       " 'month',\n",
       " 'Category']"
      ]
     },
     "execution_count": 27,
     "metadata": {},
     "output_type": "execute_result"
    }
   ],
   "source": [
    "Tree_DataSet.children"
   ]
  },
  {
   "cell_type": "markdown",
   "metadata": {},
   "source": [
    "<span style=\"color:blue\">Split Example: child with 'month'='sep'</span>"
   ]
  },
  {
   "cell_type": "code",
   "execution_count": 28,
   "metadata": {},
   "outputs": [
    {
     "data": {
      "text/html": [
       "<div>\n",
       "<style scoped>\n",
       "    .dataframe tbody tr th:only-of-type {\n",
       "        vertical-align: middle;\n",
       "    }\n",
       "\n",
       "    .dataframe tbody tr th {\n",
       "        vertical-align: top;\n",
       "    }\n",
       "\n",
       "    .dataframe thead th {\n",
       "        text-align: right;\n",
       "    }\n",
       "</style>\n",
       "<table border=\"1\" class=\"dataframe\">\n",
       "  <thead>\n",
       "    <tr style=\"text-align: right;\">\n",
       "      <th></th>\n",
       "      <th>X</th>\n",
       "      <th>Y</th>\n",
       "      <th>month</th>\n",
       "      <th>day</th>\n",
       "      <th>FFMC</th>\n",
       "      <th>DMC</th>\n",
       "      <th>DC</th>\n",
       "      <th>ISI</th>\n",
       "      <th>temp</th>\n",
       "      <th>RH</th>\n",
       "      <th>wind</th>\n",
       "      <th>rain</th>\n",
       "      <th>area</th>\n",
       "    </tr>\n",
       "  </thead>\n",
       "  <tbody>\n",
       "    <tr>\n",
       "      <th>86</th>\n",
       "      <td>1</td>\n",
       "      <td>2</td>\n",
       "      <td>sep</td>\n",
       "      <td>thu</td>\n",
       "      <td>92.9</td>\n",
       "      <td>137.0</td>\n",
       "      <td>706.4</td>\n",
       "      <td>9.2</td>\n",
       "      <td>25.4</td>\n",
       "      <td>27.0</td>\n",
       "      <td>2.2</td>\n",
       "      <td>0.0</td>\n",
       "      <td>0.00</td>\n",
       "    </tr>\n",
       "    <tr>\n",
       "      <th>392</th>\n",
       "      <td>1</td>\n",
       "      <td>3</td>\n",
       "      <td>sep</td>\n",
       "      <td>sun</td>\n",
       "      <td>91.0</td>\n",
       "      <td>276.3</td>\n",
       "      <td>825.1</td>\n",
       "      <td>7.1</td>\n",
       "      <td>21.9</td>\n",
       "      <td>43.0</td>\n",
       "      <td>4.0</td>\n",
       "      <td>0.0</td>\n",
       "      <td>70.76</td>\n",
       "    </tr>\n",
       "    <tr>\n",
       "      <th>108</th>\n",
       "      <td>4</td>\n",
       "      <td>5</td>\n",
       "      <td>sep</td>\n",
       "      <td>sat</td>\n",
       "      <td>92.5</td>\n",
       "      <td>88.0</td>\n",
       "      <td>698.6</td>\n",
       "      <td>7.1</td>\n",
       "      <td>20.3</td>\n",
       "      <td>45.0</td>\n",
       "      <td>3.1</td>\n",
       "      <td>0.0</td>\n",
       "      <td>0.00</td>\n",
       "    </tr>\n",
       "    <tr>\n",
       "      <th>338</th>\n",
       "      <td>8</td>\n",
       "      <td>6</td>\n",
       "      <td>sep</td>\n",
       "      <td>mon</td>\n",
       "      <td>91.6</td>\n",
       "      <td>108.4</td>\n",
       "      <td>764.0</td>\n",
       "      <td>6.2</td>\n",
       "      <td>22.7</td>\n",
       "      <td>35.0</td>\n",
       "      <td>2.2</td>\n",
       "      <td>0.0</td>\n",
       "      <td>7.48</td>\n",
       "    </tr>\n",
       "    <tr>\n",
       "      <th>225</th>\n",
       "      <td>4</td>\n",
       "      <td>4</td>\n",
       "      <td>sep</td>\n",
       "      <td>sun</td>\n",
       "      <td>93.5</td>\n",
       "      <td>149.3</td>\n",
       "      <td>728.6</td>\n",
       "      <td>8.1</td>\n",
       "      <td>22.9</td>\n",
       "      <td>39.0</td>\n",
       "      <td>4.9</td>\n",
       "      <td>0.0</td>\n",
       "      <td>48.55</td>\n",
       "    </tr>\n",
       "  </tbody>\n",
       "</table>\n",
       "</div>"
      ],
      "text/plain": [
       "     X  Y month  day  FFMC    DMC     DC  ISI  temp    RH  wind  rain   area\n",
       "86   1  2   sep  thu  92.9  137.0  706.4  9.2  25.4  27.0   2.2   0.0   0.00\n",
       "392  1  3   sep  sun  91.0  276.3  825.1  7.1  21.9  43.0   4.0   0.0  70.76\n",
       "108  4  5   sep  sat  92.5   88.0  698.6  7.1  20.3  45.0   3.1   0.0   0.00\n",
       "338  8  6   sep  mon  91.6  108.4  764.0  6.2  22.7  35.0   2.2   0.0   7.48\n",
       "225  4  4   sep  sun  93.5  149.3  728.6  8.1  22.9  39.0   4.9   0.0  48.55"
      ]
     },
     "execution_count": 28,
     "metadata": {},
     "output_type": "execute_result"
    }
   ],
   "source": [
    "Tree_DataSet.children[0][0][0].df.head()"
   ]
  },
  {
   "cell_type": "markdown",
   "metadata": {},
   "source": [
    "<span style=\"color:blue\">Can see that the trained model is stored in every child</span>"
   ]
  },
  {
   "cell_type": "code",
   "execution_count": 29,
   "metadata": {},
   "outputs": [
    {
     "data": {
      "text/plain": [
       "Ridge(alpha=1.0, copy_X=True, fit_intercept=True, max_iter=None,\n",
       "   normalize=True, random_state=None, solver='auto', tol=0.001)"
      ]
     },
     "execution_count": 29,
     "metadata": {},
     "output_type": "execute_result"
    }
   ],
   "source": [
    "Tree_DataSet.children[0][0][0].model"
   ]
  },
  {
   "cell_type": "markdown",
   "metadata": {},
   "source": [
    "<span style=\"color:blue\">Now predict on Holdout dataframe</span>"
   ]
  },
  {
   "cell_type": "code",
   "execution_count": 30,
   "metadata": {},
   "outputs": [
    {
     "data": {
      "text/html": [
       "<div>\n",
       "<style scoped>\n",
       "    .dataframe tbody tr th:only-of-type {\n",
       "        vertical-align: middle;\n",
       "    }\n",
       "\n",
       "    .dataframe tbody tr th {\n",
       "        vertical-align: top;\n",
       "    }\n",
       "\n",
       "    .dataframe thead th {\n",
       "        text-align: right;\n",
       "    }\n",
       "</style>\n",
       "<table border=\"1\" class=\"dataframe\">\n",
       "  <thead>\n",
       "    <tr style=\"text-align: right;\">\n",
       "      <th></th>\n",
       "      <th>Y_test</th>\n",
       "      <th>Y_pred</th>\n",
       "    </tr>\n",
       "  </thead>\n",
       "  <tbody>\n",
       "    <tr>\n",
       "      <th>0</th>\n",
       "      <td>10.6</td>\n",
       "      <td>12.01</td>\n",
       "    </tr>\n",
       "    <tr>\n",
       "      <th>1</th>\n",
       "      <td>17.7</td>\n",
       "      <td>21.47</td>\n",
       "    </tr>\n",
       "    <tr>\n",
       "      <th>2</th>\n",
       "      <td>20.6</td>\n",
       "      <td>19.11</td>\n",
       "    </tr>\n",
       "    <tr>\n",
       "      <th>3</th>\n",
       "      <td>17.9</td>\n",
       "      <td>20.37</td>\n",
       "    </tr>\n",
       "    <tr>\n",
       "      <th>4</th>\n",
       "      <td>15.8</td>\n",
       "      <td>14.24</td>\n",
       "    </tr>\n",
       "  </tbody>\n",
       "</table>\n",
       "</div>"
      ],
      "text/plain": [
       "   Y_test  Y_pred\n",
       "0    10.6   12.01\n",
       "1    17.7   21.47\n",
       "2    20.6   19.11\n",
       "3    17.9   20.37\n",
       "4    15.8   14.24"
      ]
     },
     "execution_count": 30,
     "metadata": {},
     "output_type": "execute_result"
    }
   ],
   "source": [
    "df_prediction=Tree_DataSet.predict(Holdout)\n",
    "df_prediction.head()"
   ]
  },
  {
   "cell_type": "markdown",
   "metadata": {},
   "source": [
    "<span style=\"color:blue\">MSE our algorithm </span>"
   ]
  },
  {
   "cell_type": "code",
   "execution_count": 33,
   "metadata": {},
   "outputs": [
    {
     "name": "stdout",
     "output_type": "stream",
     "text": [
      "MSE our alghoritm with linear model:11.47\n"
     ]
    }
   ],
   "source": [
    "MSE_our=mean_squared_error(df_prediction['Y_test'],df_prediction['Y_pred'])\n",
    "MSE_our=round(MSE_our,2)\n",
    "print('MSE our alghoritm with linear model:{}'.format(MSE_our))"
   ]
  },
  {
   "cell_type": "markdown",
   "metadata": {},
   "source": [
    "<span style=\"color:blue\">MSE of our algorithm for this dataset is better than MSE DecisionTreeRegressor from SkLearn  \n",
    "11.47 against 12.32</span>"
   ]
  },
  {
   "cell_type": "markdown",
   "metadata": {},
   "source": [
    "<span style=\"color:blue\">Note:less MSE is better</span>"
   ]
  },
  {
   "cell_type": "markdown",
   "metadata": {},
   "source": [
    "#### DataSet №2"
   ]
  },
  {
   "cell_type": "code",
   "execution_count": 99,
   "metadata": {},
   "outputs": [
    {
     "data": {
      "text/html": [
       "<div>\n",
       "<style scoped>\n",
       "    .dataframe tbody tr th:only-of-type {\n",
       "        vertical-align: middle;\n",
       "    }\n",
       "\n",
       "    .dataframe tbody tr th {\n",
       "        vertical-align: top;\n",
       "    }\n",
       "\n",
       "    .dataframe thead th {\n",
       "        text-align: right;\n",
       "    }\n",
       "</style>\n",
       "<table border=\"1\" class=\"dataframe\">\n",
       "  <thead>\n",
       "    <tr style=\"text-align: right;\">\n",
       "      <th></th>\n",
       "      <th>fixed acidity</th>\n",
       "      <th>volatile acidity</th>\n",
       "      <th>citric acid</th>\n",
       "      <th>residual sugar</th>\n",
       "      <th>chlorides</th>\n",
       "      <th>free sulfur dioxide</th>\n",
       "      <th>total sulfur dioxide</th>\n",
       "      <th>density</th>\n",
       "      <th>pH</th>\n",
       "      <th>sulphates</th>\n",
       "      <th>alcohol</th>\n",
       "      <th>quality</th>\n",
       "    </tr>\n",
       "  </thead>\n",
       "  <tbody>\n",
       "    <tr>\n",
       "      <th>0</th>\n",
       "      <td>7.4</td>\n",
       "      <td>0.70</td>\n",
       "      <td>0.00</td>\n",
       "      <td>1.9</td>\n",
       "      <td>0.076</td>\n",
       "      <td>11.0</td>\n",
       "      <td>34.0</td>\n",
       "      <td>0.9978</td>\n",
       "      <td>3.51</td>\n",
       "      <td>0.56</td>\n",
       "      <td>9.4</td>\n",
       "      <td>5</td>\n",
       "    </tr>\n",
       "    <tr>\n",
       "      <th>1</th>\n",
       "      <td>7.8</td>\n",
       "      <td>0.88</td>\n",
       "      <td>0.00</td>\n",
       "      <td>2.6</td>\n",
       "      <td>0.098</td>\n",
       "      <td>25.0</td>\n",
       "      <td>67.0</td>\n",
       "      <td>0.9968</td>\n",
       "      <td>3.20</td>\n",
       "      <td>0.68</td>\n",
       "      <td>9.8</td>\n",
       "      <td>5</td>\n",
       "    </tr>\n",
       "    <tr>\n",
       "      <th>2</th>\n",
       "      <td>7.8</td>\n",
       "      <td>0.76</td>\n",
       "      <td>0.04</td>\n",
       "      <td>2.3</td>\n",
       "      <td>0.092</td>\n",
       "      <td>15.0</td>\n",
       "      <td>54.0</td>\n",
       "      <td>0.9970</td>\n",
       "      <td>3.26</td>\n",
       "      <td>0.65</td>\n",
       "      <td>9.8</td>\n",
       "      <td>5</td>\n",
       "    </tr>\n",
       "    <tr>\n",
       "      <th>3</th>\n",
       "      <td>11.2</td>\n",
       "      <td>0.28</td>\n",
       "      <td>0.56</td>\n",
       "      <td>1.9</td>\n",
       "      <td>0.075</td>\n",
       "      <td>17.0</td>\n",
       "      <td>60.0</td>\n",
       "      <td>0.9980</td>\n",
       "      <td>3.16</td>\n",
       "      <td>0.58</td>\n",
       "      <td>9.8</td>\n",
       "      <td>6</td>\n",
       "    </tr>\n",
       "    <tr>\n",
       "      <th>4</th>\n",
       "      <td>7.4</td>\n",
       "      <td>0.70</td>\n",
       "      <td>0.00</td>\n",
       "      <td>1.9</td>\n",
       "      <td>0.076</td>\n",
       "      <td>11.0</td>\n",
       "      <td>34.0</td>\n",
       "      <td>0.9978</td>\n",
       "      <td>3.51</td>\n",
       "      <td>0.56</td>\n",
       "      <td>9.4</td>\n",
       "      <td>5</td>\n",
       "    </tr>\n",
       "  </tbody>\n",
       "</table>\n",
       "</div>"
      ],
      "text/plain": [
       "   fixed acidity  volatile acidity  citric acid  residual sugar  chlorides  \\\n",
       "0            7.4              0.70         0.00             1.9      0.076   \n",
       "1            7.8              0.88         0.00             2.6      0.098   \n",
       "2            7.8              0.76         0.04             2.3      0.092   \n",
       "3           11.2              0.28         0.56             1.9      0.075   \n",
       "4            7.4              0.70         0.00             1.9      0.076   \n",
       "\n",
       "   free sulfur dioxide  total sulfur dioxide  density    pH  sulphates  \\\n",
       "0                 11.0                  34.0   0.9978  3.51       0.56   \n",
       "1                 25.0                  67.0   0.9968  3.20       0.68   \n",
       "2                 15.0                  54.0   0.9970  3.26       0.65   \n",
       "3                 17.0                  60.0   0.9980  3.16       0.58   \n",
       "4                 11.0                  34.0   0.9978  3.51       0.56   \n",
       "\n",
       "   alcohol  quality  \n",
       "0      9.4        5  \n",
       "1      9.8        5  \n",
       "2      9.8        5  \n",
       "3      9.8        6  \n",
       "4      9.4        5  "
      ]
     },
     "execution_count": 99,
     "metadata": {},
     "output_type": "execute_result"
    }
   ],
   "source": [
    "target_label='total sulfur dioxide'\n",
    "DataSet=pd.read_csv(path_dataset_2,sep=';')\n",
    "# DataSet=DataSet.drop('url',axis=1)\n",
    "Train,Holdout = train_test_split(DataSet, test_size=0.3,\n",
    "random_state=17)\n",
    "DataSet.head()"
   ]
  },
  {
   "cell_type": "code",
   "execution_count": 100,
   "metadata": {},
   "outputs": [
    {
     "name": "stdout",
     "output_type": "stream",
     "text": [
      "Rows:\n",
      "Train:1119\n",
      "Holdout:480\n"
     ]
    }
   ],
   "source": [
    "print('Rows:')\n",
    "print('Train:{}'.format(Train.shape[0]))\n",
    "print('Holdout:{}'.format(Holdout.shape[0]))"
   ]
  },
  {
   "cell_type": "markdown",
   "metadata": {},
   "source": [
    "#### DecisionTreeRegressor from SkLearn"
   ]
  },
  {
   "cell_type": "code",
   "execution_count": 101,
   "metadata": {},
   "outputs": [
    {
     "name": "stdout",
     "output_type": "stream",
     "text": [
      "MSE with DecisionTreeRegressor from SkLearn:578.86\n",
      "Example DataFrame\n"
     ]
    },
    {
     "data": {
      "text/html": [
       "<div>\n",
       "<style scoped>\n",
       "    .dataframe tbody tr th:only-of-type {\n",
       "        vertical-align: middle;\n",
       "    }\n",
       "\n",
       "    .dataframe tbody tr th {\n",
       "        vertical-align: top;\n",
       "    }\n",
       "\n",
       "    .dataframe thead th {\n",
       "        text-align: right;\n",
       "    }\n",
       "</style>\n",
       "<table border=\"1\" class=\"dataframe\">\n",
       "  <thead>\n",
       "    <tr style=\"text-align: right;\">\n",
       "      <th></th>\n",
       "      <th>Y_test</th>\n",
       "      <th>Y_predict</th>\n",
       "    </tr>\n",
       "  </thead>\n",
       "  <tbody>\n",
       "    <tr>\n",
       "      <th>0</th>\n",
       "      <td>34.0</td>\n",
       "      <td>34.0</td>\n",
       "    </tr>\n",
       "    <tr>\n",
       "      <th>5</th>\n",
       "      <td>40.0</td>\n",
       "      <td>35.0</td>\n",
       "    </tr>\n",
       "    <tr>\n",
       "      <th>6</th>\n",
       "      <td>59.0</td>\n",
       "      <td>37.0</td>\n",
       "    </tr>\n",
       "    <tr>\n",
       "      <th>17</th>\n",
       "      <td>56.0</td>\n",
       "      <td>69.0</td>\n",
       "    </tr>\n",
       "    <tr>\n",
       "      <th>18</th>\n",
       "      <td>29.0</td>\n",
       "      <td>11.0</td>\n",
       "    </tr>\n",
       "  </tbody>\n",
       "</table>\n",
       "</div>"
      ],
      "text/plain": [
       "    Y_test  Y_predict\n",
       "0     34.0       34.0\n",
       "5     40.0       35.0\n",
       "6     59.0       37.0\n",
       "17    56.0       69.0\n",
       "18    29.0       11.0"
      ]
     },
     "execution_count": 101,
     "metadata": {},
     "output_type": "execute_result"
    }
   ],
   "source": [
    "df,metric=proc_learn(DataSet,target_label,Train,Holdout) \n",
    "print('MSE with DecisionTreeRegressor from SkLearn:{}'.format(metric))\n",
    "print('Example DataFrame')\n",
    "df.head()"
   ]
  },
  {
   "cell_type": "markdown",
   "metadata": {},
   "source": [
    "#### Our algorithm"
   ]
  },
  {
   "cell_type": "code",
   "execution_count": 102,
   "metadata": {},
   "outputs": [
    {
     "data": {
      "text/html": [
       "<div>\n",
       "<style scoped>\n",
       "    .dataframe tbody tr th:only-of-type {\n",
       "        vertical-align: middle;\n",
       "    }\n",
       "\n",
       "    .dataframe tbody tr th {\n",
       "        vertical-align: top;\n",
       "    }\n",
       "\n",
       "    .dataframe thead th {\n",
       "        text-align: right;\n",
       "    }\n",
       "</style>\n",
       "<table border=\"1\" class=\"dataframe\">\n",
       "  <thead>\n",
       "    <tr style=\"text-align: right;\">\n",
       "      <th></th>\n",
       "      <th>Y_test</th>\n",
       "      <th>Y_pred</th>\n",
       "    </tr>\n",
       "  </thead>\n",
       "  <tbody>\n",
       "    <tr>\n",
       "      <th>0</th>\n",
       "      <td>47.0</td>\n",
       "      <td>47.12</td>\n",
       "    </tr>\n",
       "    <tr>\n",
       "      <th>1</th>\n",
       "      <td>15.0</td>\n",
       "      <td>22.24</td>\n",
       "    </tr>\n",
       "    <tr>\n",
       "      <th>2</th>\n",
       "      <td>13.0</td>\n",
       "      <td>16.01</td>\n",
       "    </tr>\n",
       "    <tr>\n",
       "      <th>3</th>\n",
       "      <td>99.0</td>\n",
       "      <td>62.06</td>\n",
       "    </tr>\n",
       "    <tr>\n",
       "      <th>4</th>\n",
       "      <td>79.0</td>\n",
       "      <td>59.30</td>\n",
       "    </tr>\n",
       "  </tbody>\n",
       "</table>\n",
       "</div>"
      ],
      "text/plain": [
       "   Y_test  Y_pred\n",
       "0    47.0   47.12\n",
       "1    15.0   22.24\n",
       "2    13.0   16.01\n",
       "3    99.0   62.06\n",
       "4    79.0   59.30"
      ]
     },
     "execution_count": 102,
     "metadata": {},
     "output_type": "execute_result"
    }
   ],
   "source": [
    "Tree_DataSet=Root_Node(Train,target_label)\n",
    "Tree_DataSet.preproc()\n",
    "Tree_DataSet.fit(size_n=200)\n",
    "df_prediction=Tree_DataSet.predict(Holdout)\n",
    "df_prediction.head()"
   ]
  },
  {
   "cell_type": "code",
   "execution_count": 106,
   "metadata": {},
   "outputs": [
    {
     "name": "stdout",
     "output_type": "stream",
     "text": [
      "MSE our alghoritm with linear model:442.29\n"
     ]
    }
   ],
   "source": [
    "MSE_our=mean_squared_error(df_prediction['Y_test'],df_prediction['Y_pred'])\n",
    "MSE_our=round(MSE_our,2)\n",
    "print('MSE our alghoritm with linear model:{}'.format(MSE_our))"
   ]
  },
  {
   "cell_type": "markdown",
   "metadata": {},
   "source": [
    "<span style=\"color:blue\">Small comment:  \n",
    "The test of two algorithms passes on the same data set, although the order of the rows is different  \n",
    "    Demonstrate this:</span>"
   ]
  },
  {
   "cell_type": "code",
   "execution_count": 104,
   "metadata": {},
   "outputs": [
    {
     "data": {
      "text/plain": [
       "22758.0"
      ]
     },
     "execution_count": 104,
     "metadata": {},
     "output_type": "execute_result"
    }
   ],
   "source": [
    "df_prediction['Y_test'].sum()"
   ]
  },
  {
   "cell_type": "code",
   "execution_count": 105,
   "metadata": {},
   "outputs": [
    {
     "data": {
      "text/plain": [
       "22758.0"
      ]
     },
     "execution_count": 105,
     "metadata": {},
     "output_type": "execute_result"
    }
   ],
   "source": [
    "df['Y_test'].sum()"
   ]
  },
  {
   "cell_type": "markdown",
   "metadata": {},
   "source": [
    "<span style=\"color:blue\">MSE of our algorithm for this dataset is better than MSE DecisionTreeRegressor from SkLearn  \n",
    "442.29 against 578.86</span>"
   ]
  },
  {
   "cell_type": "markdown",
   "metadata": {},
   "source": [
    "### DataSet №3"
   ]
  },
  {
   "cell_type": "code",
   "execution_count": 124,
   "metadata": {},
   "outputs": [
    {
     "data": {
      "text/html": [
       "<div>\n",
       "<style scoped>\n",
       "    .dataframe tbody tr th:only-of-type {\n",
       "        vertical-align: middle;\n",
       "    }\n",
       "\n",
       "    .dataframe tbody tr th {\n",
       "        vertical-align: top;\n",
       "    }\n",
       "\n",
       "    .dataframe thead th {\n",
       "        text-align: right;\n",
       "    }\n",
       "</style>\n",
       "<table border=\"1\" class=\"dataframe\">\n",
       "  <thead>\n",
       "    <tr style=\"text-align: right;\">\n",
       "      <th></th>\n",
       "      <th>Appliances</th>\n",
       "      <th>lights</th>\n",
       "      <th>T1</th>\n",
       "      <th>RH_1</th>\n",
       "      <th>T2</th>\n",
       "      <th>RH_2</th>\n",
       "      <th>T3</th>\n",
       "      <th>RH_3</th>\n",
       "      <th>T4</th>\n",
       "      <th>RH_4</th>\n",
       "      <th>...</th>\n",
       "      <th>T9</th>\n",
       "      <th>RH_9</th>\n",
       "      <th>T_out</th>\n",
       "      <th>Press_mm_hg</th>\n",
       "      <th>RH_out</th>\n",
       "      <th>Windspeed</th>\n",
       "      <th>Visibility</th>\n",
       "      <th>Tdewpoint</th>\n",
       "      <th>rv1</th>\n",
       "      <th>rv2</th>\n",
       "    </tr>\n",
       "  </thead>\n",
       "  <tbody>\n",
       "    <tr>\n",
       "      <th>0</th>\n",
       "      <td>60</td>\n",
       "      <td>30</td>\n",
       "      <td>19.89</td>\n",
       "      <td>47.596667</td>\n",
       "      <td>19.2</td>\n",
       "      <td>44.790000</td>\n",
       "      <td>19.79</td>\n",
       "      <td>44.730000</td>\n",
       "      <td>19.000000</td>\n",
       "      <td>45.566667</td>\n",
       "      <td>...</td>\n",
       "      <td>17.033333</td>\n",
       "      <td>45.53</td>\n",
       "      <td>6.600000</td>\n",
       "      <td>733.5</td>\n",
       "      <td>92.0</td>\n",
       "      <td>7.000000</td>\n",
       "      <td>63.000000</td>\n",
       "      <td>5.3</td>\n",
       "      <td>13.275433</td>\n",
       "      <td>13.275433</td>\n",
       "    </tr>\n",
       "    <tr>\n",
       "      <th>1</th>\n",
       "      <td>60</td>\n",
       "      <td>30</td>\n",
       "      <td>19.89</td>\n",
       "      <td>46.693333</td>\n",
       "      <td>19.2</td>\n",
       "      <td>44.722500</td>\n",
       "      <td>19.79</td>\n",
       "      <td>44.790000</td>\n",
       "      <td>19.000000</td>\n",
       "      <td>45.992500</td>\n",
       "      <td>...</td>\n",
       "      <td>17.066667</td>\n",
       "      <td>45.56</td>\n",
       "      <td>6.483333</td>\n",
       "      <td>733.6</td>\n",
       "      <td>92.0</td>\n",
       "      <td>6.666667</td>\n",
       "      <td>59.166667</td>\n",
       "      <td>5.2</td>\n",
       "      <td>18.606195</td>\n",
       "      <td>18.606195</td>\n",
       "    </tr>\n",
       "    <tr>\n",
       "      <th>2</th>\n",
       "      <td>50</td>\n",
       "      <td>30</td>\n",
       "      <td>19.89</td>\n",
       "      <td>46.300000</td>\n",
       "      <td>19.2</td>\n",
       "      <td>44.626667</td>\n",
       "      <td>19.79</td>\n",
       "      <td>44.933333</td>\n",
       "      <td>18.926667</td>\n",
       "      <td>45.890000</td>\n",
       "      <td>...</td>\n",
       "      <td>17.000000</td>\n",
       "      <td>45.50</td>\n",
       "      <td>6.366667</td>\n",
       "      <td>733.7</td>\n",
       "      <td>92.0</td>\n",
       "      <td>6.333333</td>\n",
       "      <td>55.333333</td>\n",
       "      <td>5.1</td>\n",
       "      <td>28.642668</td>\n",
       "      <td>28.642668</td>\n",
       "    </tr>\n",
       "    <tr>\n",
       "      <th>3</th>\n",
       "      <td>50</td>\n",
       "      <td>40</td>\n",
       "      <td>19.89</td>\n",
       "      <td>46.066667</td>\n",
       "      <td>19.2</td>\n",
       "      <td>44.590000</td>\n",
       "      <td>19.79</td>\n",
       "      <td>45.000000</td>\n",
       "      <td>18.890000</td>\n",
       "      <td>45.723333</td>\n",
       "      <td>...</td>\n",
       "      <td>17.000000</td>\n",
       "      <td>45.40</td>\n",
       "      <td>6.250000</td>\n",
       "      <td>733.8</td>\n",
       "      <td>92.0</td>\n",
       "      <td>6.000000</td>\n",
       "      <td>51.500000</td>\n",
       "      <td>5.0</td>\n",
       "      <td>45.410389</td>\n",
       "      <td>45.410389</td>\n",
       "    </tr>\n",
       "    <tr>\n",
       "      <th>4</th>\n",
       "      <td>60</td>\n",
       "      <td>40</td>\n",
       "      <td>19.89</td>\n",
       "      <td>46.333333</td>\n",
       "      <td>19.2</td>\n",
       "      <td>44.530000</td>\n",
       "      <td>19.79</td>\n",
       "      <td>45.000000</td>\n",
       "      <td>18.890000</td>\n",
       "      <td>45.530000</td>\n",
       "      <td>...</td>\n",
       "      <td>17.000000</td>\n",
       "      <td>45.40</td>\n",
       "      <td>6.133333</td>\n",
       "      <td>733.9</td>\n",
       "      <td>92.0</td>\n",
       "      <td>5.666667</td>\n",
       "      <td>47.666667</td>\n",
       "      <td>4.9</td>\n",
       "      <td>10.084097</td>\n",
       "      <td>10.084097</td>\n",
       "    </tr>\n",
       "  </tbody>\n",
       "</table>\n",
       "<p>5 rows × 28 columns</p>\n",
       "</div>"
      ],
      "text/plain": [
       "   Appliances  lights     T1       RH_1    T2       RH_2     T3       RH_3  \\\n",
       "0          60      30  19.89  47.596667  19.2  44.790000  19.79  44.730000   \n",
       "1          60      30  19.89  46.693333  19.2  44.722500  19.79  44.790000   \n",
       "2          50      30  19.89  46.300000  19.2  44.626667  19.79  44.933333   \n",
       "3          50      40  19.89  46.066667  19.2  44.590000  19.79  45.000000   \n",
       "4          60      40  19.89  46.333333  19.2  44.530000  19.79  45.000000   \n",
       "\n",
       "          T4       RH_4  ...         T9   RH_9     T_out  Press_mm_hg  RH_out  \\\n",
       "0  19.000000  45.566667  ...  17.033333  45.53  6.600000        733.5    92.0   \n",
       "1  19.000000  45.992500  ...  17.066667  45.56  6.483333        733.6    92.0   \n",
       "2  18.926667  45.890000  ...  17.000000  45.50  6.366667        733.7    92.0   \n",
       "3  18.890000  45.723333  ...  17.000000  45.40  6.250000        733.8    92.0   \n",
       "4  18.890000  45.530000  ...  17.000000  45.40  6.133333        733.9    92.0   \n",
       "\n",
       "   Windspeed  Visibility  Tdewpoint        rv1        rv2  \n",
       "0   7.000000   63.000000        5.3  13.275433  13.275433  \n",
       "1   6.666667   59.166667        5.2  18.606195  18.606195  \n",
       "2   6.333333   55.333333        5.1  28.642668  28.642668  \n",
       "3   6.000000   51.500000        5.0  45.410389  45.410389  \n",
       "4   5.666667   47.666667        4.9  10.084097  10.084097  \n",
       "\n",
       "[5 rows x 28 columns]"
      ]
     },
     "execution_count": 124,
     "metadata": {},
     "output_type": "execute_result"
    }
   ],
   "source": [
    "# Appliances, energy use in Wh \n",
    "target_label='Appliances'\n",
    "DataSet=pd.read_csv(path_dataset_3).drop('date',axis=1)\n",
    "Train,Holdout = train_test_split(DataSet, test_size=0.3,\n",
    "random_state=17)\n",
    "DataSet.head()"
   ]
  },
  {
   "cell_type": "code",
   "execution_count": 125,
   "metadata": {},
   "outputs": [
    {
     "name": "stdout",
     "output_type": "stream",
     "text": [
      "Rows:\n",
      "Train:13814\n",
      "Holdout:5921\n"
     ]
    }
   ],
   "source": [
    "print('Rows:')\n",
    "print('Train:{}'.format(Train.shape[0]))\n",
    "print('Holdout:{}'.format(Holdout.shape[0]))"
   ]
  },
  {
   "cell_type": "markdown",
   "metadata": {},
   "source": [
    "#### DecisionTreeRegressor from SkLearn"
   ]
  },
  {
   "cell_type": "code",
   "execution_count": 126,
   "metadata": {},
   "outputs": [
    {
     "name": "stdout",
     "output_type": "stream",
     "text": [
      "MSE with DecisionTreeRegressor from SkLearn:9362.2\n",
      "Example DataFrame\n"
     ]
    },
    {
     "data": {
      "text/html": [
       "<div>\n",
       "<style scoped>\n",
       "    .dataframe tbody tr th:only-of-type {\n",
       "        vertical-align: middle;\n",
       "    }\n",
       "\n",
       "    .dataframe tbody tr th {\n",
       "        vertical-align: top;\n",
       "    }\n",
       "\n",
       "    .dataframe thead th {\n",
       "        text-align: right;\n",
       "    }\n",
       "</style>\n",
       "<table border=\"1\" class=\"dataframe\">\n",
       "  <thead>\n",
       "    <tr style=\"text-align: right;\">\n",
       "      <th></th>\n",
       "      <th>Y_test</th>\n",
       "      <th>Y_predict</th>\n",
       "    </tr>\n",
       "  </thead>\n",
       "  <tbody>\n",
       "    <tr>\n",
       "      <th>0</th>\n",
       "      <td>60</td>\n",
       "      <td>40.0</td>\n",
       "    </tr>\n",
       "    <tr>\n",
       "      <th>1</th>\n",
       "      <td>60</td>\n",
       "      <td>50.0</td>\n",
       "    </tr>\n",
       "    <tr>\n",
       "      <th>6</th>\n",
       "      <td>60</td>\n",
       "      <td>50.0</td>\n",
       "    </tr>\n",
       "    <tr>\n",
       "      <th>8</th>\n",
       "      <td>60</td>\n",
       "      <td>60.0</td>\n",
       "    </tr>\n",
       "    <tr>\n",
       "      <th>9</th>\n",
       "      <td>70</td>\n",
       "      <td>60.0</td>\n",
       "    </tr>\n",
       "  </tbody>\n",
       "</table>\n",
       "</div>"
      ],
      "text/plain": [
       "   Y_test  Y_predict\n",
       "0      60       40.0\n",
       "1      60       50.0\n",
       "6      60       50.0\n",
       "8      60       60.0\n",
       "9      70       60.0"
      ]
     },
     "execution_count": 126,
     "metadata": {},
     "output_type": "execute_result"
    }
   ],
   "source": [
    "df,metric=proc_learn(DataSet,target_label,Train,Holdout) \n",
    "print('MSE with DecisionTreeRegressor from SkLearn:{}'.format(metric))\n",
    "print('Example DataFrame')\n",
    "df.head()"
   ]
  },
  {
   "cell_type": "markdown",
   "metadata": {},
   "source": [
    "#### Our algorithm"
   ]
  },
  {
   "cell_type": "code",
   "execution_count": 127,
   "metadata": {},
   "outputs": [
    {
     "data": {
      "text/html": [
       "<div>\n",
       "<style scoped>\n",
       "    .dataframe tbody tr th:only-of-type {\n",
       "        vertical-align: middle;\n",
       "    }\n",
       "\n",
       "    .dataframe tbody tr th {\n",
       "        vertical-align: top;\n",
       "    }\n",
       "\n",
       "    .dataframe thead th {\n",
       "        text-align: right;\n",
       "    }\n",
       "</style>\n",
       "<table border=\"1\" class=\"dataframe\">\n",
       "  <thead>\n",
       "    <tr style=\"text-align: right;\">\n",
       "      <th></th>\n",
       "      <th>Y_test</th>\n",
       "      <th>Y_pred</th>\n",
       "    </tr>\n",
       "  </thead>\n",
       "  <tbody>\n",
       "    <tr>\n",
       "      <th>0</th>\n",
       "      <td>40</td>\n",
       "      <td>57.65</td>\n",
       "    </tr>\n",
       "    <tr>\n",
       "      <th>1</th>\n",
       "      <td>160</td>\n",
       "      <td>157.32</td>\n",
       "    </tr>\n",
       "    <tr>\n",
       "      <th>2</th>\n",
       "      <td>150</td>\n",
       "      <td>161.88</td>\n",
       "    </tr>\n",
       "    <tr>\n",
       "      <th>3</th>\n",
       "      <td>60</td>\n",
       "      <td>84.80</td>\n",
       "    </tr>\n",
       "    <tr>\n",
       "      <th>4</th>\n",
       "      <td>60</td>\n",
       "      <td>37.39</td>\n",
       "    </tr>\n",
       "  </tbody>\n",
       "</table>\n",
       "</div>"
      ],
      "text/plain": [
       "   Y_test  Y_pred\n",
       "0      40   57.65\n",
       "1     160  157.32\n",
       "2     150  161.88\n",
       "3      60   84.80\n",
       "4      60   37.39"
      ]
     },
     "execution_count": 127,
     "metadata": {},
     "output_type": "execute_result"
    }
   ],
   "source": [
    "Tree_DataSet=Root_Node(Train,target_label)\n",
    "Tree_DataSet.preproc()\n",
    "Tree_DataSet.fit(size_n=200)\n",
    "df_prediction=Tree_DataSet.predict(Holdout)\n",
    "df_prediction.head()"
   ]
  },
  {
   "cell_type": "code",
   "execution_count": 128,
   "metadata": {},
   "outputs": [
    {
     "name": "stdout",
     "output_type": "stream",
     "text": [
      "MSE our alghoritm with linear model:7083.51\n"
     ]
    }
   ],
   "source": [
    "MSE_our=mean_squared_error(df_prediction['Y_test'],df_prediction['Y_pred'])\n",
    "MSE_our=round(MSE_our,2)\n",
    "print('MSE our alghoritm with linear model:{}'.format(MSE_our))"
   ]
  },
  {
   "cell_type": "markdown",
   "metadata": {},
   "source": [
    "<span style=\"color:blue\">MSE of our algorithm for this dataset is better than MSE DecisionTreeRegressor from SkLearn  \n",
    "7083.51 against 9362.2</span>"
   ]
  },
  {
   "cell_type": "markdown",
   "metadata": {},
   "source": [
    "### DataSet №4"
   ]
  },
  {
   "cell_type": "code",
   "execution_count": 19,
   "metadata": {},
   "outputs": [
    {
     "data": {
      "text/html": [
       "<div>\n",
       "<style scoped>\n",
       "    .dataframe tbody tr th:only-of-type {\n",
       "        vertical-align: middle;\n",
       "    }\n",
       "\n",
       "    .dataframe tbody tr th {\n",
       "        vertical-align: top;\n",
       "    }\n",
       "\n",
       "    .dataframe thead th {\n",
       "        text-align: right;\n",
       "    }\n",
       "</style>\n",
       "<table border=\"1\" class=\"dataframe\">\n",
       "  <thead>\n",
       "    <tr style=\"text-align: right;\">\n",
       "      <th></th>\n",
       "      <th>tau1</th>\n",
       "      <th>tau2</th>\n",
       "      <th>tau3</th>\n",
       "      <th>tau4</th>\n",
       "      <th>p1</th>\n",
       "      <th>p2</th>\n",
       "      <th>p3</th>\n",
       "      <th>p4</th>\n",
       "      <th>g1</th>\n",
       "      <th>g2</th>\n",
       "      <th>g3</th>\n",
       "      <th>g4</th>\n",
       "      <th>stab</th>\n",
       "      <th>stabf</th>\n",
       "    </tr>\n",
       "  </thead>\n",
       "  <tbody>\n",
       "    <tr>\n",
       "      <th>0</th>\n",
       "      <td>2.959060</td>\n",
       "      <td>3.079885</td>\n",
       "      <td>8.381025</td>\n",
       "      <td>9.780754</td>\n",
       "      <td>3.763085</td>\n",
       "      <td>-0.782604</td>\n",
       "      <td>-1.257395</td>\n",
       "      <td>-1.723086</td>\n",
       "      <td>0.650456</td>\n",
       "      <td>0.859578</td>\n",
       "      <td>0.887445</td>\n",
       "      <td>0.958034</td>\n",
       "      <td>0.055347</td>\n",
       "      <td>unstable</td>\n",
       "    </tr>\n",
       "    <tr>\n",
       "      <th>1</th>\n",
       "      <td>9.304097</td>\n",
       "      <td>4.902524</td>\n",
       "      <td>3.047541</td>\n",
       "      <td>1.369357</td>\n",
       "      <td>5.067812</td>\n",
       "      <td>-1.940058</td>\n",
       "      <td>-1.872742</td>\n",
       "      <td>-1.255012</td>\n",
       "      <td>0.413441</td>\n",
       "      <td>0.862414</td>\n",
       "      <td>0.562139</td>\n",
       "      <td>0.781760</td>\n",
       "      <td>-0.005957</td>\n",
       "      <td>stable</td>\n",
       "    </tr>\n",
       "    <tr>\n",
       "      <th>2</th>\n",
       "      <td>8.971707</td>\n",
       "      <td>8.848428</td>\n",
       "      <td>3.046479</td>\n",
       "      <td>1.214518</td>\n",
       "      <td>3.405158</td>\n",
       "      <td>-1.207456</td>\n",
       "      <td>-1.277210</td>\n",
       "      <td>-0.920492</td>\n",
       "      <td>0.163041</td>\n",
       "      <td>0.766689</td>\n",
       "      <td>0.839444</td>\n",
       "      <td>0.109853</td>\n",
       "      <td>0.003471</td>\n",
       "      <td>unstable</td>\n",
       "    </tr>\n",
       "    <tr>\n",
       "      <th>3</th>\n",
       "      <td>0.716415</td>\n",
       "      <td>7.669600</td>\n",
       "      <td>4.486641</td>\n",
       "      <td>2.340563</td>\n",
       "      <td>3.963791</td>\n",
       "      <td>-1.027473</td>\n",
       "      <td>-1.938944</td>\n",
       "      <td>-0.997374</td>\n",
       "      <td>0.446209</td>\n",
       "      <td>0.976744</td>\n",
       "      <td>0.929381</td>\n",
       "      <td>0.362718</td>\n",
       "      <td>0.028871</td>\n",
       "      <td>unstable</td>\n",
       "    </tr>\n",
       "    <tr>\n",
       "      <th>4</th>\n",
       "      <td>3.134112</td>\n",
       "      <td>7.608772</td>\n",
       "      <td>4.943759</td>\n",
       "      <td>9.857573</td>\n",
       "      <td>3.525811</td>\n",
       "      <td>-1.125531</td>\n",
       "      <td>-1.845975</td>\n",
       "      <td>-0.554305</td>\n",
       "      <td>0.797110</td>\n",
       "      <td>0.455450</td>\n",
       "      <td>0.656947</td>\n",
       "      <td>0.820923</td>\n",
       "      <td>0.049860</td>\n",
       "      <td>unstable</td>\n",
       "    </tr>\n",
       "  </tbody>\n",
       "</table>\n",
       "</div>"
      ],
      "text/plain": [
       "       tau1      tau2      tau3      tau4        p1        p2        p3  \\\n",
       "0  2.959060  3.079885  8.381025  9.780754  3.763085 -0.782604 -1.257395   \n",
       "1  9.304097  4.902524  3.047541  1.369357  5.067812 -1.940058 -1.872742   \n",
       "2  8.971707  8.848428  3.046479  1.214518  3.405158 -1.207456 -1.277210   \n",
       "3  0.716415  7.669600  4.486641  2.340563  3.963791 -1.027473 -1.938944   \n",
       "4  3.134112  7.608772  4.943759  9.857573  3.525811 -1.125531 -1.845975   \n",
       "\n",
       "         p4        g1        g2        g3        g4      stab     stabf  \n",
       "0 -1.723086  0.650456  0.859578  0.887445  0.958034  0.055347  unstable  \n",
       "1 -1.255012  0.413441  0.862414  0.562139  0.781760 -0.005957    stable  \n",
       "2 -0.920492  0.163041  0.766689  0.839444  0.109853  0.003471  unstable  \n",
       "3 -0.997374  0.446209  0.976744  0.929381  0.362718  0.028871  unstable  \n",
       "4 -0.554305  0.797110  0.455450  0.656947  0.820923  0.049860  unstable  "
      ]
     },
     "execution_count": 19,
     "metadata": {},
     "output_type": "execute_result"
    }
   ],
   "source": [
    "# Tau1 - the value for electricity producer.\n",
    "target_label='tau1'\n",
    "DataSet=pd.read_csv(path_dataset_4,sep=',')\n",
    "# DataSet=DataSet.drop('url',axis=1)\n",
    "Train,Holdout = train_test_split(DataSet, test_size=0.3,\n",
    "random_state=17)\n",
    "DataSet.head()"
   ]
  },
  {
   "cell_type": "code",
   "execution_count": 20,
   "metadata": {},
   "outputs": [
    {
     "name": "stdout",
     "output_type": "stream",
     "text": [
      "Rows:\n",
      "Train:7000\n",
      "Holdout:3000\n"
     ]
    }
   ],
   "source": [
    "print('Rows:')\n",
    "print('Train:{}'.format(Train.shape[0]))\n",
    "print('Holdout:{}'.format(Holdout.shape[0]))"
   ]
  },
  {
   "cell_type": "markdown",
   "metadata": {},
   "source": [
    "#### DecisionTreeRegressor from SkLearn"
   ]
  },
  {
   "cell_type": "code",
   "execution_count": 21,
   "metadata": {},
   "outputs": [
    {
     "name": "stdout",
     "output_type": "stream",
     "text": [
      "MSE with DecisionTreeRegressor from SkLearn:11.02\n",
      "Example DataFrame\n"
     ]
    },
    {
     "data": {
      "text/html": [
       "<div>\n",
       "<style scoped>\n",
       "    .dataframe tbody tr th:only-of-type {\n",
       "        vertical-align: middle;\n",
       "    }\n",
       "\n",
       "    .dataframe tbody tr th {\n",
       "        vertical-align: top;\n",
       "    }\n",
       "\n",
       "    .dataframe thead th {\n",
       "        text-align: right;\n",
       "    }\n",
       "</style>\n",
       "<table border=\"1\" class=\"dataframe\">\n",
       "  <thead>\n",
       "    <tr style=\"text-align: right;\">\n",
       "      <th></th>\n",
       "      <th>Y_test</th>\n",
       "      <th>Y_predict</th>\n",
       "    </tr>\n",
       "  </thead>\n",
       "  <tbody>\n",
       "    <tr>\n",
       "      <th>0</th>\n",
       "      <td>2.959060</td>\n",
       "      <td>5.451775</td>\n",
       "    </tr>\n",
       "    <tr>\n",
       "      <th>5</th>\n",
       "      <td>6.999209</td>\n",
       "      <td>5.040156</td>\n",
       "    </tr>\n",
       "    <tr>\n",
       "      <th>8</th>\n",
       "      <td>4.689852</td>\n",
       "      <td>8.389062</td>\n",
       "    </tr>\n",
       "    <tr>\n",
       "      <th>13</th>\n",
       "      <td>8.551598</td>\n",
       "      <td>7.237847</td>\n",
       "    </tr>\n",
       "    <tr>\n",
       "      <th>14</th>\n",
       "      <td>1.132108</td>\n",
       "      <td>5.519754</td>\n",
       "    </tr>\n",
       "  </tbody>\n",
       "</table>\n",
       "</div>"
      ],
      "text/plain": [
       "      Y_test  Y_predict\n",
       "0   2.959060   5.451775\n",
       "5   6.999209   5.040156\n",
       "8   4.689852   8.389062\n",
       "13  8.551598   7.237847\n",
       "14  1.132108   5.519754"
      ]
     },
     "execution_count": 21,
     "metadata": {},
     "output_type": "execute_result"
    }
   ],
   "source": [
    "df,metric=proc_learn(DataSet,target_label,Train,Holdout) \n",
    "print('MSE with DecisionTreeRegressor from SkLearn:{}'.format(metric))\n",
    "print('Example DataFrame')\n",
    "df.head()"
   ]
  },
  {
   "cell_type": "markdown",
   "metadata": {},
   "source": [
    "#### Our algorithm"
   ]
  },
  {
   "cell_type": "code",
   "execution_count": 22,
   "metadata": {},
   "outputs": [
    {
     "data": {
      "text/html": [
       "<div>\n",
       "<style scoped>\n",
       "    .dataframe tbody tr th:only-of-type {\n",
       "        vertical-align: middle;\n",
       "    }\n",
       "\n",
       "    .dataframe tbody tr th {\n",
       "        vertical-align: top;\n",
       "    }\n",
       "\n",
       "    .dataframe thead th {\n",
       "        text-align: right;\n",
       "    }\n",
       "</style>\n",
       "<table border=\"1\" class=\"dataframe\">\n",
       "  <thead>\n",
       "    <tr style=\"text-align: right;\">\n",
       "      <th></th>\n",
       "      <th>Y_test</th>\n",
       "      <th>Y_pred</th>\n",
       "    </tr>\n",
       "  </thead>\n",
       "  <tbody>\n",
       "    <tr>\n",
       "      <th>0</th>\n",
       "      <td>6.836982</td>\n",
       "      <td>4.98</td>\n",
       "    </tr>\n",
       "    <tr>\n",
       "      <th>1</th>\n",
       "      <td>4.673040</td>\n",
       "      <td>4.77</td>\n",
       "    </tr>\n",
       "    <tr>\n",
       "      <th>2</th>\n",
       "      <td>3.049476</td>\n",
       "      <td>3.92</td>\n",
       "    </tr>\n",
       "    <tr>\n",
       "      <th>3</th>\n",
       "      <td>4.146173</td>\n",
       "      <td>6.13</td>\n",
       "    </tr>\n",
       "    <tr>\n",
       "      <th>4</th>\n",
       "      <td>7.855018</td>\n",
       "      <td>5.99</td>\n",
       "    </tr>\n",
       "  </tbody>\n",
       "</table>\n",
       "</div>"
      ],
      "text/plain": [
       "     Y_test  Y_pred\n",
       "0  6.836982    4.98\n",
       "1  4.673040    4.77\n",
       "2  3.049476    3.92\n",
       "3  4.146173    6.13\n",
       "4  7.855018    5.99"
      ]
     },
     "execution_count": 22,
     "metadata": {},
     "output_type": "execute_result"
    }
   ],
   "source": [
    "Tree_DataSet=Root_Node(Train,target_label)\n",
    "Tree_DataSet.preproc()\n",
    "Tree_DataSet.fit(size_n=200)\n",
    "df_prediction=Tree_DataSet.predict(Holdout)\n",
    "df_prediction.head()"
   ]
  },
  {
   "cell_type": "code",
   "execution_count": 23,
   "metadata": {},
   "outputs": [
    {
     "name": "stdout",
     "output_type": "stream",
     "text": [
      "MSE our alghoritm with linear model:5.81\n"
     ]
    }
   ],
   "source": [
    "MSE_our=mean_squared_error(df_prediction['Y_test'],df_prediction['Y_pred'])\n",
    "MSE_our=round(MSE_our,2)\n",
    "print('MSE our alghoritm with linear model:{}'.format(MSE_our))"
   ]
  },
  {
   "cell_type": "markdown",
   "metadata": {},
   "source": [
    "<span style=\"color:blue\">MSE of our algorithm for this dataset is better than MSE DecisionTreeRegressor from SkLearn  \n",
    "5.81 against 11.02</span>"
   ]
  },
  {
   "cell_type": "markdown",
   "metadata": {},
   "source": [
    "### DataSet №5"
   ]
  },
  {
   "cell_type": "code",
   "execution_count": 25,
   "metadata": {},
   "outputs": [
    {
     "data": {
      "text/html": [
       "<div>\n",
       "<style scoped>\n",
       "    .dataframe tbody tr th:only-of-type {\n",
       "        vertical-align: middle;\n",
       "    }\n",
       "\n",
       "    .dataframe tbody tr th {\n",
       "        vertical-align: top;\n",
       "    }\n",
       "\n",
       "    .dataframe thead th {\n",
       "        text-align: right;\n",
       "    }\n",
       "</style>\n",
       "<table border=\"1\" class=\"dataframe\">\n",
       "  <thead>\n",
       "    <tr style=\"text-align: right;\">\n",
       "      <th></th>\n",
       "      <th>RMSD</th>\n",
       "      <th>F1</th>\n",
       "      <th>F2</th>\n",
       "      <th>F3</th>\n",
       "      <th>F4</th>\n",
       "      <th>F5</th>\n",
       "      <th>F6</th>\n",
       "      <th>F7</th>\n",
       "      <th>F8</th>\n",
       "      <th>F9</th>\n",
       "    </tr>\n",
       "  </thead>\n",
       "  <tbody>\n",
       "    <tr>\n",
       "      <th>0</th>\n",
       "      <td>17.284</td>\n",
       "      <td>13558.30</td>\n",
       "      <td>4305.35</td>\n",
       "      <td>0.31754</td>\n",
       "      <td>162.1730</td>\n",
       "      <td>1.872791e+06</td>\n",
       "      <td>215.3590</td>\n",
       "      <td>4287.87</td>\n",
       "      <td>102</td>\n",
       "      <td>27.0302</td>\n",
       "    </tr>\n",
       "    <tr>\n",
       "      <th>1</th>\n",
       "      <td>6.021</td>\n",
       "      <td>6191.96</td>\n",
       "      <td>1623.16</td>\n",
       "      <td>0.26213</td>\n",
       "      <td>53.3894</td>\n",
       "      <td>8.034467e+05</td>\n",
       "      <td>87.2024</td>\n",
       "      <td>3328.91</td>\n",
       "      <td>39</td>\n",
       "      <td>38.5468</td>\n",
       "    </tr>\n",
       "    <tr>\n",
       "      <th>2</th>\n",
       "      <td>9.275</td>\n",
       "      <td>7725.98</td>\n",
       "      <td>1726.28</td>\n",
       "      <td>0.22343</td>\n",
       "      <td>67.2887</td>\n",
       "      <td>1.075648e+06</td>\n",
       "      <td>81.7913</td>\n",
       "      <td>2981.04</td>\n",
       "      <td>29</td>\n",
       "      <td>38.8119</td>\n",
       "    </tr>\n",
       "    <tr>\n",
       "      <th>3</th>\n",
       "      <td>15.851</td>\n",
       "      <td>8424.58</td>\n",
       "      <td>2368.25</td>\n",
       "      <td>0.28111</td>\n",
       "      <td>67.8325</td>\n",
       "      <td>1.210472e+06</td>\n",
       "      <td>109.4390</td>\n",
       "      <td>3248.22</td>\n",
       "      <td>70</td>\n",
       "      <td>39.0651</td>\n",
       "    </tr>\n",
       "    <tr>\n",
       "      <th>4</th>\n",
       "      <td>7.962</td>\n",
       "      <td>7460.84</td>\n",
       "      <td>1736.94</td>\n",
       "      <td>0.23280</td>\n",
       "      <td>52.4123</td>\n",
       "      <td>1.021020e+06</td>\n",
       "      <td>94.5234</td>\n",
       "      <td>2814.42</td>\n",
       "      <td>41</td>\n",
       "      <td>39.9147</td>\n",
       "    </tr>\n",
       "  </tbody>\n",
       "</table>\n",
       "</div>"
      ],
      "text/plain": [
       "     RMSD        F1       F2       F3        F4            F5        F6  \\\n",
       "0  17.284  13558.30  4305.35  0.31754  162.1730  1.872791e+06  215.3590   \n",
       "1   6.021   6191.96  1623.16  0.26213   53.3894  8.034467e+05   87.2024   \n",
       "2   9.275   7725.98  1726.28  0.22343   67.2887  1.075648e+06   81.7913   \n",
       "3  15.851   8424.58  2368.25  0.28111   67.8325  1.210472e+06  109.4390   \n",
       "4   7.962   7460.84  1736.94  0.23280   52.4123  1.021020e+06   94.5234   \n",
       "\n",
       "        F7   F8       F9  \n",
       "0  4287.87  102  27.0302  \n",
       "1  3328.91   39  38.5468  \n",
       "2  2981.04   29  38.8119  \n",
       "3  3248.22   70  39.0651  \n",
       "4  2814.42   41  39.9147  "
      ]
     },
     "execution_count": 25,
     "metadata": {},
     "output_type": "execute_result"
    }
   ],
   "source": [
    "# Tau1 - the value for electricity producer.\n",
    "target_label='RMSD'\n",
    "DataSet=pd.read_csv(path_dataset_5,sep=',')\n",
    "# DataSet=DataSet.drop('url',axis=1)\n",
    "Train,Holdout = train_test_split(DataSet, test_size=0.3,\n",
    "random_state=17)\n",
    "DataSet.head()"
   ]
  },
  {
   "cell_type": "code",
   "execution_count": 26,
   "metadata": {},
   "outputs": [
    {
     "name": "stdout",
     "output_type": "stream",
     "text": [
      "Rows:\n",
      "Train:32011\n",
      "Holdout:13719\n"
     ]
    }
   ],
   "source": [
    "print('Rows:')\n",
    "print('Train:{}'.format(Train.shape[0]))\n",
    "print('Holdout:{}'.format(Holdout.shape[0]))"
   ]
  },
  {
   "cell_type": "markdown",
   "metadata": {},
   "source": [
    "#### DecisionTreeRegressor from SkLearn"
   ]
  },
  {
   "cell_type": "code",
   "execution_count": 27,
   "metadata": {},
   "outputs": [
    {
     "name": "stdout",
     "output_type": "stream",
     "text": [
      "MSE with DecisionTreeRegressor from SkLearn:25.2\n",
      "Example DataFrame\n"
     ]
    },
    {
     "data": {
      "text/html": [
       "<div>\n",
       "<style scoped>\n",
       "    .dataframe tbody tr th:only-of-type {\n",
       "        vertical-align: middle;\n",
       "    }\n",
       "\n",
       "    .dataframe tbody tr th {\n",
       "        vertical-align: top;\n",
       "    }\n",
       "\n",
       "    .dataframe thead th {\n",
       "        text-align: right;\n",
       "    }\n",
       "</style>\n",
       "<table border=\"1\" class=\"dataframe\">\n",
       "  <thead>\n",
       "    <tr style=\"text-align: right;\">\n",
       "      <th></th>\n",
       "      <th>Y_test</th>\n",
       "      <th>Y_predict</th>\n",
       "    </tr>\n",
       "  </thead>\n",
       "  <tbody>\n",
       "    <tr>\n",
       "      <th>0</th>\n",
       "      <td>17.284</td>\n",
       "      <td>2.391</td>\n",
       "    </tr>\n",
       "    <tr>\n",
       "      <th>11</th>\n",
       "      <td>0.884</td>\n",
       "      <td>0.884</td>\n",
       "    </tr>\n",
       "    <tr>\n",
       "      <th>12</th>\n",
       "      <td>7.913</td>\n",
       "      <td>7.905</td>\n",
       "    </tr>\n",
       "    <tr>\n",
       "      <th>13</th>\n",
       "      <td>14.103</td>\n",
       "      <td>10.302</td>\n",
       "    </tr>\n",
       "    <tr>\n",
       "      <th>14</th>\n",
       "      <td>6.581</td>\n",
       "      <td>5.282</td>\n",
       "    </tr>\n",
       "  </tbody>\n",
       "</table>\n",
       "</div>"
      ],
      "text/plain": [
       "    Y_test  Y_predict\n",
       "0   17.284      2.391\n",
       "11   0.884      0.884\n",
       "12   7.913      7.905\n",
       "13  14.103     10.302\n",
       "14   6.581      5.282"
      ]
     },
     "execution_count": 27,
     "metadata": {},
     "output_type": "execute_result"
    }
   ],
   "source": [
    "df,metric=proc_learn(DataSet,target_label,Train,Holdout) \n",
    "print('MSE with DecisionTreeRegressor from SkLearn:{}'.format(metric))\n",
    "print('Example DataFrame')\n",
    "df.head()"
   ]
  },
  {
   "cell_type": "markdown",
   "metadata": {},
   "source": [
    "#### Our algorithm"
   ]
  },
  {
   "cell_type": "code",
   "execution_count": 28,
   "metadata": {},
   "outputs": [
    {
     "data": {
      "text/html": [
       "<div>\n",
       "<style scoped>\n",
       "    .dataframe tbody tr th:only-of-type {\n",
       "        vertical-align: middle;\n",
       "    }\n",
       "\n",
       "    .dataframe tbody tr th {\n",
       "        vertical-align: top;\n",
       "    }\n",
       "\n",
       "    .dataframe thead th {\n",
       "        text-align: right;\n",
       "    }\n",
       "</style>\n",
       "<table border=\"1\" class=\"dataframe\">\n",
       "  <thead>\n",
       "    <tr style=\"text-align: right;\">\n",
       "      <th></th>\n",
       "      <th>Y_test</th>\n",
       "      <th>Y_pred</th>\n",
       "    </tr>\n",
       "  </thead>\n",
       "  <tbody>\n",
       "    <tr>\n",
       "      <th>0</th>\n",
       "      <td>13.729</td>\n",
       "      <td>11.24</td>\n",
       "    </tr>\n",
       "    <tr>\n",
       "      <th>1</th>\n",
       "      <td>2.092</td>\n",
       "      <td>5.27</td>\n",
       "    </tr>\n",
       "    <tr>\n",
       "      <th>2</th>\n",
       "      <td>17.315</td>\n",
       "      <td>14.14</td>\n",
       "    </tr>\n",
       "    <tr>\n",
       "      <th>3</th>\n",
       "      <td>1.296</td>\n",
       "      <td>1.70</td>\n",
       "    </tr>\n",
       "    <tr>\n",
       "      <th>4</th>\n",
       "      <td>9.067</td>\n",
       "      <td>8.09</td>\n",
       "    </tr>\n",
       "  </tbody>\n",
       "</table>\n",
       "</div>"
      ],
      "text/plain": [
       "   Y_test  Y_pred\n",
       "0  13.729   11.24\n",
       "1   2.092    5.27\n",
       "2  17.315   14.14\n",
       "3   1.296    1.70\n",
       "4   9.067    8.09"
      ]
     },
     "execution_count": 28,
     "metadata": {},
     "output_type": "execute_result"
    }
   ],
   "source": [
    "Tree_DataSet=Root_Node(Train,target_label)\n",
    "Tree_DataSet.preproc()\n",
    "Tree_DataSet.fit(size_n=200)\n",
    "df_prediction=Tree_DataSet.predict(Holdout)\n",
    "df_prediction.head()"
   ]
  },
  {
   "cell_type": "code",
   "execution_count": 29,
   "metadata": {},
   "outputs": [
    {
     "name": "stdout",
     "output_type": "stream",
     "text": [
      "MSE our alghoritm with linear model:19.6\n"
     ]
    }
   ],
   "source": [
    "MSE_our=mean_squared_error(df_prediction['Y_test'],df_prediction['Y_pred'])\n",
    "MSE_our=round(MSE_our,2)\n",
    "print('MSE our alghoritm with linear model:{}'.format(MSE_our))"
   ]
  },
  {
   "cell_type": "markdown",
   "metadata": {},
   "source": [
    "<span style=\"color:blue\">MSE of our algorithm for this dataset is better than MSE DecisionTreeRegressor from SkLearn  \n",
    "19.6 against 25.2</span>"
   ]
  },
  {
   "cell_type": "markdown",
   "metadata": {},
   "source": [
    "## Summary"
   ]
  },
  {
   "attachments": {
    "1.PNG": {
     "image/png": "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"
    }
   },
   "cell_type": "markdown",
   "metadata": {},
   "source": [
    "![1.PNG](attachment:1.PNG)"
   ]
  },
  {
   "cell_type": "markdown",
   "metadata": {},
   "source": [
    "In the course of the work, a decision tree algorithm was developed, in which all nodes and leaves contain a linear regression model \n",
    "\n",
    "The algorithm showed good results, showing MSE better than the DecisionTreeRegressor from SkLearn on different five datasets\n",
    "\n",
    "The main disadvantages of the algorithm is the calculation time.\n",
    "\n"
   ]
  },
  {
   "cell_type": "code",
   "execution_count": null,
   "metadata": {},
   "outputs": [],
   "source": []
  }
 ],
 "metadata": {
  "kernelspec": {
   "display_name": "Python 3",
   "language": "python",
   "name": "python3"
  },
  "language_info": {
   "codemirror_mode": {
    "name": "ipython",
    "version": 3
   },
   "file_extension": ".py",
   "mimetype": "text/x-python",
   "name": "python",
   "nbconvert_exporter": "python",
   "pygments_lexer": "ipython3",
   "version": "3.7.3"
  }
 },
 "nbformat": 4,
 "nbformat_minor": 2
}
